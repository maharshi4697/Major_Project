{
 "cells": [
  {
   "cell_type": "markdown",
   "metadata": {},
   "source": [
    "## Import Functions"
   ]
  },
  {
   "cell_type": "code",
   "execution_count": 1,
   "metadata": {},
   "outputs": [
    {
     "name": "stderr",
     "output_type": "stream",
     "text": [
      "Using TensorFlow backend.\n"
     ]
    }
   ],
   "source": [
    "import numpy as np \n",
    "import pandas as pd \n",
    "import matplotlib.pyplot as plt\n",
    "import os\n",
    "from sklearn.preprocessing import MinMaxScaler\n",
    "from keras.models import Sequential\n",
    "from keras.layers import Dense\n",
    "from keras.layers import LSTM\n",
    "from keras.layers import Dropout"
   ]
  },
  {
   "cell_type": "markdown",
   "metadata": {},
   "source": [
    "## Pre-Processing"
   ]
  },
  {
   "cell_type": "code",
   "execution_count": 2,
   "metadata": {},
   "outputs": [],
   "source": [
    "dataset_train = pd.read_csv(\"/Users/maharshichattopadhyay/Documents/Study/Major_Project/DataSet/Final_Dataset/MCB_Train.csv\")\n",
    "dataset_test = pd.read_csv(\"/Users/maharshichattopadhyay/Documents/Study/Major_Project/DataSet/Final_Dataset/MCB_Test.csv\") "
   ]
  },
  {
   "cell_type": "code",
   "execution_count": 3,
   "metadata": {},
   "outputs": [
    {
     "data": {
      "text/html": [
       "<div>\n",
       "<style scoped>\n",
       "    .dataframe tbody tr th:only-of-type {\n",
       "        vertical-align: middle;\n",
       "    }\n",
       "\n",
       "    .dataframe tbody tr th {\n",
       "        vertical-align: top;\n",
       "    }\n",
       "\n",
       "    .dataframe thead th {\n",
       "        text-align: right;\n",
       "    }\n",
       "</style>\n",
       "<table border=\"1\" class=\"dataframe\">\n",
       "  <thead>\n",
       "    <tr style=\"text-align: right;\">\n",
       "      <th></th>\n",
       "      <th>Date</th>\n",
       "      <th>compund</th>\n",
       "      <th>neg</th>\n",
       "      <th>neu</th>\n",
       "      <th>pos</th>\n",
       "      <th>Open</th>\n",
       "      <th>High</th>\n",
       "      <th>Low</th>\n",
       "      <th>Close</th>\n",
       "      <th>Volume</th>\n",
       "    </tr>\n",
       "  </thead>\n",
       "  <tbody>\n",
       "    <tr>\n",
       "      <th>0</th>\n",
       "      <td>3-Jan-11</td>\n",
       "      <td>-0.8934</td>\n",
       "      <td>0.172</td>\n",
       "      <td>0.746</td>\n",
       "      <td>0.082</td>\n",
       "      <td>226.00</td>\n",
       "      <td>227.00</td>\n",
       "      <td>221.50</td>\n",
       "      <td>223.32</td>\n",
       "      <td>646442.0</td>\n",
       "    </tr>\n",
       "    <tr>\n",
       "      <th>1</th>\n",
       "      <td>4-Jan-11</td>\n",
       "      <td>-0.6996</td>\n",
       "      <td>0.133</td>\n",
       "      <td>0.806</td>\n",
       "      <td>0.060</td>\n",
       "      <td>223.32</td>\n",
       "      <td>229.50</td>\n",
       "      <td>223.32</td>\n",
       "      <td>227.97</td>\n",
       "      <td>1601540.0</td>\n",
       "    </tr>\n",
       "    <tr>\n",
       "      <th>2</th>\n",
       "      <td>5-Jan-11</td>\n",
       "      <td>-0.9442</td>\n",
       "      <td>0.319</td>\n",
       "      <td>0.638</td>\n",
       "      <td>0.044</td>\n",
       "      <td>227.00</td>\n",
       "      <td>232.00</td>\n",
       "      <td>225.60</td>\n",
       "      <td>226.27</td>\n",
       "      <td>2181684.0</td>\n",
       "    </tr>\n",
       "    <tr>\n",
       "      <th>3</th>\n",
       "      <td>6-Jan-11</td>\n",
       "      <td>-0.7906</td>\n",
       "      <td>0.179</td>\n",
       "      <td>0.726</td>\n",
       "      <td>0.094</td>\n",
       "      <td>227.00</td>\n",
       "      <td>227.65</td>\n",
       "      <td>224.20</td>\n",
       "      <td>226.16</td>\n",
       "      <td>1034935.0</td>\n",
       "    </tr>\n",
       "    <tr>\n",
       "      <th>4</th>\n",
       "      <td>7-Jan-11</td>\n",
       "      <td>-0.5859</td>\n",
       "      <td>0.140</td>\n",
       "      <td>0.766</td>\n",
       "      <td>0.094</td>\n",
       "      <td>227.50</td>\n",
       "      <td>227.99</td>\n",
       "      <td>223.80</td>\n",
       "      <td>225.99</td>\n",
       "      <td>1247251.0</td>\n",
       "    </tr>\n",
       "  </tbody>\n",
       "</table>\n",
       "</div>"
      ],
      "text/plain": [
       "       Date  compund    neg    neu    pos    Open    High     Low   Close  \\\n",
       "0  3-Jan-11  -0.8934  0.172  0.746  0.082  226.00  227.00  221.50  223.32   \n",
       "1  4-Jan-11  -0.6996  0.133  0.806  0.060  223.32  229.50  223.32  227.97   \n",
       "2  5-Jan-11  -0.9442  0.319  0.638  0.044  227.00  232.00  225.60  226.27   \n",
       "3  6-Jan-11  -0.7906  0.179  0.726  0.094  227.00  227.65  224.20  226.16   \n",
       "4  7-Jan-11  -0.5859  0.140  0.766  0.094  227.50  227.99  223.80  225.99   \n",
       "\n",
       "      Volume  \n",
       "0   646442.0  \n",
       "1  1601540.0  \n",
       "2  2181684.0  \n",
       "3  1034935.0  \n",
       "4  1247251.0  "
      ]
     },
     "execution_count": 3,
     "metadata": {},
     "output_type": "execute_result"
    }
   ],
   "source": [
    "dataset_train.head()"
   ]
  },
  {
   "cell_type": "code",
   "execution_count": 4,
   "metadata": {},
   "outputs": [],
   "source": [
    "#dataset_test.head()"
   ]
  },
  {
   "cell_type": "code",
   "execution_count": 5,
   "metadata": {},
   "outputs": [
    {
     "data": {
      "text/plain": [
       "array([[223.32],\n",
       "       [227.97],\n",
       "       [226.27],\n",
       "       ...,\n",
       "       [   nan],\n",
       "       [   nan],\n",
       "       [   nan]])"
      ]
     },
     "execution_count": 5,
     "metadata": {},
     "output_type": "execute_result"
    }
   ],
   "source": [
    "trainset = dataset_train.iloc[:,8:9].values\n",
    "sc = MinMaxScaler(feature_range = (0,1))\n",
    "training_scaled = sc.fit_transform(trainset)\n",
    "trainset"
   ]
  },
  {
   "cell_type": "code",
   "execution_count": 6,
   "metadata": {},
   "outputs": [],
   "source": [
    "x_train = []\n",
    "y_train = []"
   ]
  },
  {
   "cell_type": "code",
   "execution_count": 7,
   "metadata": {},
   "outputs": [],
   "source": [
    "for i in range(1,1476):\n",
    "    x_train.append(training_scaled[i-1:i, 0])\n",
    "    y_train.append(training_scaled[i,0])\n",
    "x_train,y_train = np.array(x_train),np.array(y_train)"
   ]
  },
  {
   "cell_type": "code",
   "execution_count": 8,
   "metadata": {},
   "outputs": [],
   "source": [
    "#x_train.shape"
   ]
  },
  {
   "cell_type": "code",
   "execution_count": 9,
   "metadata": {},
   "outputs": [
    {
     "data": {
      "text/plain": [
       "(1475, 1, 1)"
      ]
     },
     "execution_count": 9,
     "metadata": {},
     "output_type": "execute_result"
    }
   ],
   "source": [
    "x_train = np.reshape(x_train, (x_train.shape[0],x_train.shape[1],1))\n",
    "x_train.shape"
   ]
  },
  {
   "cell_type": "code",
   "execution_count": 10,
   "metadata": {},
   "outputs": [],
   "source": [
    "#type(training_scaled)"
   ]
  },
  {
   "cell_type": "markdown",
   "metadata": {},
   "source": [
    "## LSTM-RNN Model"
   ]
  },
  {
   "cell_type": "code",
   "execution_count": 11,
   "metadata": {},
   "outputs": [
    {
     "name": "stdout",
     "output_type": "stream",
     "text": [
      "WARNING:tensorflow:From /anaconda3/lib/python3.7/site-packages/tensorflow/python/framework/op_def_library.py:263: colocate_with (from tensorflow.python.framework.ops) is deprecated and will be removed in a future version.\n",
      "Instructions for updating:\n",
      "Colocations handled automatically by placer.\n",
      "WARNING:tensorflow:From /anaconda3/lib/python3.7/site-packages/keras/backend/tensorflow_backend.py:3445: calling dropout (from tensorflow.python.ops.nn_ops) with keep_prob is deprecated and will be removed in a future version.\n",
      "Instructions for updating:\n",
      "Please use `rate` instead of `keep_prob`. Rate should be set to `rate = 1 - keep_prob`.\n",
      "WARNING:tensorflow:From /anaconda3/lib/python3.7/site-packages/tensorflow/python/ops/math_ops.py:3066: to_int32 (from tensorflow.python.ops.math_ops) is deprecated and will be removed in a future version.\n",
      "Instructions for updating:\n",
      "Use tf.cast instead.\n",
      "Train on 1180 samples, validate on 295 samples\n",
      "Epoch 1/100\n",
      "1180/1180 [==============================] - 4s 4ms/step - loss: 0.2418 - val_loss: nan\n",
      "Epoch 2/100\n",
      "1180/1180 [==============================] - 0s 352us/step - loss: 0.0856 - val_loss: nan\n",
      "Epoch 3/100\n",
      "1180/1180 [==============================] - 0s 336us/step - loss: 0.0355 - val_loss: nan\n",
      "Epoch 4/100\n",
      "1180/1180 [==============================] - 0s 366us/step - loss: 0.0221 - val_loss: nan\n",
      "Epoch 5/100\n",
      "1180/1180 [==============================] - 0s 353us/step - loss: 0.0109 - val_loss: nan\n",
      "Epoch 6/100\n",
      "1180/1180 [==============================] - 0s 371us/step - loss: 0.0071 - val_loss: nan\n",
      "Epoch 7/100\n",
      "1180/1180 [==============================] - 0s 287us/step - loss: 0.0066 - val_loss: nan\n",
      "Epoch 8/100\n",
      "1180/1180 [==============================] - 0s 300us/step - loss: 0.0066 - val_loss: nan\n",
      "Epoch 9/100\n",
      "1180/1180 [==============================] - 0s 298us/step - loss: 0.0059 - val_loss: nan\n",
      "Epoch 10/100\n",
      "1180/1180 [==============================] - 0s 284us/step - loss: 0.0058 - val_loss: nan\n",
      "Epoch 11/100\n",
      "1180/1180 [==============================] - 0s 310us/step - loss: 0.0054 - val_loss: nan\n",
      "Epoch 12/100\n",
      "1180/1180 [==============================] - 0s 321us/step - loss: 0.0048 - val_loss: nan\n",
      "Epoch 13/100\n",
      "1180/1180 [==============================] - 0s 349us/step - loss: 0.0050 - val_loss: nan\n",
      "Epoch 14/100\n",
      "1180/1180 [==============================] - 0s 346us/step - loss: 0.0044 - val_loss: nan\n",
      "Epoch 15/100\n",
      "1180/1180 [==============================] - 0s 323us/step - loss: 0.0044 - val_loss: nan\n",
      "Epoch 16/100\n",
      "1180/1180 [==============================] - 0s 371us/step - loss: 0.0041 - val_loss: nan\n",
      "Epoch 17/100\n",
      "1180/1180 [==============================] - 0s 315us/step - loss: 0.0042 - val_loss: nan\n",
      "Epoch 18/100\n",
      "1180/1180 [==============================] - 0s 323us/step - loss: 0.0036 - val_loss: nan\n",
      "Epoch 19/100\n",
      "1180/1180 [==============================] - 0s 312us/step - loss: 0.0036 - val_loss: nan\n",
      "Epoch 20/100\n",
      "1180/1180 [==============================] - 0s 337us/step - loss: 0.0034 - val_loss: nan\n",
      "Epoch 21/100\n",
      "1180/1180 [==============================] - 0s 366us/step - loss: 0.0034 - val_loss: nan\n",
      "Epoch 22/100\n",
      "1180/1180 [==============================] - 0s 353us/step - loss: 0.0032 - val_loss: nan\n",
      "Epoch 23/100\n",
      "1180/1180 [==============================] - 0s 372us/step - loss: 0.0032 - val_loss: nan\n",
      "Epoch 24/100\n",
      "1180/1180 [==============================] - 0s 329us/step - loss: 0.0030 - val_loss: nan\n",
      "Epoch 25/100\n",
      "1180/1180 [==============================] - 0s 388us/step - loss: 0.0031 - val_loss: nan\n",
      "Epoch 26/100\n",
      "1180/1180 [==============================] - 0s 319us/step - loss: 0.0030 - val_loss: nan\n",
      "Epoch 27/100\n",
      "1180/1180 [==============================] - 0s 315us/step - loss: 0.0030 - val_loss: nan\n",
      "Epoch 28/100\n",
      "1180/1180 [==============================] - 0s 322us/step - loss: 0.0030 - val_loss: nan\n",
      "Epoch 29/100\n",
      "1180/1180 [==============================] - 0s 326us/step - loss: 0.0028 - val_loss: nan\n",
      "Epoch 30/100\n",
      "1180/1180 [==============================] - 0s 338us/step - loss: 0.0030 - val_loss: nan\n",
      "Epoch 31/100\n",
      "1180/1180 [==============================] - 0s 401us/step - loss: 0.0027 - val_loss: nan\n",
      "Epoch 32/100\n",
      "1180/1180 [==============================] - 0s 320us/step - loss: 0.0027 - val_loss: nan\n",
      "Epoch 33/100\n",
      "1180/1180 [==============================] - 0s 364us/step - loss: 0.0027 - val_loss: nan\n",
      "Epoch 34/100\n",
      "1180/1180 [==============================] - 0s 314us/step - loss: 0.0025 - val_loss: nan\n",
      "Epoch 35/100\n",
      "1180/1180 [==============================] - 0s 326us/step - loss: 0.0027 - val_loss: nan\n",
      "Epoch 36/100\n",
      "1180/1180 [==============================] - 0s 328us/step - loss: 0.0025 - val_loss: nan\n",
      "Epoch 37/100\n",
      "1180/1180 [==============================] - 0s 371us/step - loss: 0.0027 - val_loss: nan\n",
      "Epoch 38/100\n",
      "1180/1180 [==============================] - 0s 413us/step - loss: 0.0026 - val_loss: nan\n",
      "Epoch 39/100\n",
      "1180/1180 [==============================] - 0s 353us/step - loss: 0.0024 - val_loss: nan\n",
      "Epoch 40/100\n",
      "1180/1180 [==============================] - 0s 344us/step - loss: 0.0025 - val_loss: nan\n",
      "Epoch 41/100\n",
      "1180/1180 [==============================] - 0s 393us/step - loss: 0.0023 - val_loss: nan\n",
      "Epoch 42/100\n",
      "1180/1180 [==============================] - 0s 321us/step - loss: 0.0022 - val_loss: nan\n",
      "Epoch 43/100\n",
      "1180/1180 [==============================] - 0s 385us/step - loss: 0.0021 - val_loss: nan\n",
      "Epoch 44/100\n",
      "1180/1180 [==============================] - 0s 341us/step - loss: 0.0023 - val_loss: nan\n",
      "Epoch 45/100\n",
      "1180/1180 [==============================] - 0s 335us/step - loss: 0.0021 - val_loss: nan\n",
      "Epoch 46/100\n",
      "1180/1180 [==============================] - 0s 320us/step - loss: 0.0023 - val_loss: nan\n",
      "Epoch 47/100\n",
      "1180/1180 [==============================] - 0s 357us/step - loss: 0.0023 - val_loss: nan\n",
      "Epoch 48/100\n",
      "1180/1180 [==============================] - 0s 352us/step - loss: 0.0023 - val_loss: nan\n",
      "Epoch 49/100\n",
      "1180/1180 [==============================] - 0s 370us/step - loss: 0.0022 - val_loss: nan\n",
      "Epoch 50/100\n",
      "1180/1180 [==============================] - 0s 309us/step - loss: 0.0021 - val_loss: nan\n",
      "Epoch 51/100\n",
      "1180/1180 [==============================] - 0s 348us/step - loss: 0.0022 - val_loss: nan\n",
      "Epoch 52/100\n",
      "1180/1180 [==============================] - 0s 400us/step - loss: 0.0022 - val_loss: nan\n",
      "Epoch 53/100\n",
      "1180/1180 [==============================] - 0s 328us/step - loss: 0.0022 - val_loss: nan\n",
      "Epoch 54/100\n",
      "1180/1180 [==============================] - 0s 373us/step - loss: 0.0021 - val_loss: nan\n",
      "Epoch 55/100\n",
      "1180/1180 [==============================] - 0s 389us/step - loss: 0.0022 - val_loss: nan\n",
      "Epoch 56/100\n",
      "1180/1180 [==============================] - 0s 392us/step - loss: 0.0020 - val_loss: nan\n",
      "Epoch 57/100\n",
      "1180/1180 [==============================] - 0s 332us/step - loss: 0.0018 - val_loss: nan\n",
      "Epoch 58/100\n",
      "1180/1180 [==============================] - 0s 335us/step - loss: 0.0021 - val_loss: nan\n",
      "Epoch 59/100\n",
      "1180/1180 [==============================] - 0s 320us/step - loss: 0.0022 - val_loss: nan\n",
      "Epoch 60/100\n",
      "1180/1180 [==============================] - 0s 332us/step - loss: 0.0020 - val_loss: nan\n",
      "Epoch 61/100\n",
      "1180/1180 [==============================] - 0s 389us/step - loss: 0.0020 - val_loss: nan\n",
      "Epoch 62/100\n",
      "1180/1180 [==============================] - 0s 353us/step - loss: 0.0020 - val_loss: nan\n",
      "Epoch 63/100\n",
      "1180/1180 [==============================] - 0s 343us/step - loss: 0.0022 - val_loss: nan\n",
      "Epoch 64/100\n",
      "1180/1180 [==============================] - 0s 303us/step - loss: 0.0020 - val_loss: nan\n",
      "Epoch 65/100\n",
      "1180/1180 [==============================] - 0s 387us/step - loss: 0.0021 - val_loss: nan\n",
      "Epoch 66/100\n",
      "1180/1180 [==============================] - 0s 374us/step - loss: 0.0019 - val_loss: nan\n",
      "Epoch 67/100\n",
      "1180/1180 [==============================] - 0s 372us/step - loss: 0.0019 - val_loss: nan\n",
      "Epoch 68/100\n",
      "1180/1180 [==============================] - 0s 351us/step - loss: 0.0020 - val_loss: nan\n",
      "Epoch 69/100\n",
      "1180/1180 [==============================] - 0s 350us/step - loss: 0.0023 - val_loss: nan\n",
      "Epoch 70/100\n",
      "1180/1180 [==============================] - 0s 347us/step - loss: 0.0019 - val_loss: nan\n",
      "Epoch 71/100\n"
     ]
    },
    {
     "name": "stdout",
     "output_type": "stream",
     "text": [
      "1180/1180 [==============================] - 0s 310us/step - loss: 0.0021 - val_loss: nan\n",
      "Epoch 72/100\n",
      "1180/1180 [==============================] - 0s 349us/step - loss: 0.0020 - val_loss: nan\n",
      "Epoch 73/100\n",
      "1180/1180 [==============================] - 0s 372us/step - loss: 0.0019 - val_loss: nan\n",
      "Epoch 74/100\n",
      "1180/1180 [==============================] - 0s 338us/step - loss: 0.0019 - val_loss: nan\n",
      "Epoch 75/100\n",
      "1180/1180 [==============================] - 0s 357us/step - loss: 0.0017 - val_loss: nan\n",
      "Epoch 76/100\n",
      "1180/1180 [==============================] - 0s 362us/step - loss: 0.0021 - val_loss: nan\n",
      "Epoch 77/100\n",
      "1180/1180 [==============================] - 0s 391us/step - loss: 0.0018 - val_loss: nan\n",
      "Epoch 78/100\n",
      "1180/1180 [==============================] - 0s 340us/step - loss: 0.0019 - val_loss: nan\n",
      "Epoch 79/100\n",
      "1180/1180 [==============================] - 0s 373us/step - loss: 0.0019 - val_loss: nan\n",
      "Epoch 80/100\n",
      "1180/1180 [==============================] - 0s 328us/step - loss: 0.0019 - val_loss: nan\n",
      "Epoch 81/100\n",
      "1180/1180 [==============================] - 0s 358us/step - loss: 0.0019 - val_loss: nan\n",
      "Epoch 82/100\n",
      "1180/1180 [==============================] - 0s 319us/step - loss: 0.0018 - val_loss: nan\n",
      "Epoch 83/100\n",
      "1180/1180 [==============================] - 0s 340us/step - loss: 0.0019 - val_loss: nan\n",
      "Epoch 84/100\n",
      "1180/1180 [==============================] - 0s 326us/step - loss: 0.0020 - val_loss: nan\n",
      "Epoch 85/100\n",
      "1180/1180 [==============================] - 0s 312us/step - loss: 0.0018 - val_loss: nan\n",
      "Epoch 86/100\n",
      "1180/1180 [==============================] - 0s 354us/step - loss: 0.0019 - val_loss: nan\n",
      "Epoch 87/100\n",
      "1180/1180 [==============================] - 0s 297us/step - loss: 0.0017 - val_loss: nan\n",
      "Epoch 88/100\n",
      "1180/1180 [==============================] - 0s 326us/step - loss: 0.0017 - val_loss: nan\n",
      "Epoch 89/100\n",
      "1180/1180 [==============================] - 0s 337us/step - loss: 0.0018 - val_loss: nan\n",
      "Epoch 90/100\n",
      "1180/1180 [==============================] - 0s 376us/step - loss: 0.0018 - val_loss: nan\n",
      "Epoch 91/100\n",
      "1180/1180 [==============================] - 0s 346us/step - loss: 0.0019 - val_loss: nan\n",
      "Epoch 92/100\n",
      "1180/1180 [==============================] - 0s 381us/step - loss: 0.0016 - val_loss: nan\n",
      "Epoch 93/100\n",
      "1180/1180 [==============================] - 0s 345us/step - loss: 0.0019 - val_loss: nan\n",
      "Epoch 94/100\n",
      "1180/1180 [==============================] - 0s 389us/step - loss: 0.0018 - val_loss: nan\n",
      "Epoch 95/100\n",
      "1180/1180 [==============================] - 0s 389us/step - loss: 0.0017 - val_loss: nan\n",
      "Epoch 96/100\n",
      "1180/1180 [==============================] - 0s 378us/step - loss: 0.0017 - val_loss: nan\n",
      "Epoch 97/100\n",
      "1180/1180 [==============================] - 0s 400us/step - loss: 0.0019 - val_loss: nan\n",
      "Epoch 98/100\n",
      "1180/1180 [==============================] - 0s 392us/step - loss: 0.0018 - val_loss: nan\n",
      "Epoch 99/100\n",
      "1180/1180 [==============================] - 0s 372us/step - loss: 0.0018 - val_loss: nan\n",
      "Epoch 100/100\n",
      "1180/1180 [==============================] - 0s 392us/step - loss: 0.0016 - val_loss: nan\n"
     ]
    },
    {
     "data": {
      "text/plain": [
       "<keras.callbacks.History at 0x1a28c872b0>"
      ]
     },
     "execution_count": 11,
     "metadata": {},
     "output_type": "execute_result"
    }
   ],
   "source": [
    "model = Sequential()\n",
    "model.add(LSTM(units = 25,return_sequences = True,input_shape = (x_train.shape[1],1)))\n",
    "model.add(Dropout(0.1))\n",
    "model.add(LSTM(units = 25,return_sequences = True))\n",
    "model.add(Dropout(0.1))\n",
    "model.add(LSTM(units = 25,return_sequences = True))\n",
    "model.add(Dropout(0.1))\n",
    "model.add(LSTM(units = 25))\n",
    "model.add(Dropout(0.1))\n",
    "model.add(Dense(units = 1))\n",
    "model.compile(optimizer = 'adam',loss = 'mean_squared_error')#,metrics = ['accuracy'])\n",
    "model.fit(x_train,y_train,epochs = 100, batch_size = 32, validation_split=0.20, verbose=1)"
   ]
  },
  {
   "cell_type": "markdown",
   "metadata": {},
   "source": [
    "## Predictions"
   ]
  },
  {
   "cell_type": "code",
   "execution_count": 12,
   "metadata": {},
   "outputs": [
    {
     "data": {
      "text/plain": [
       "0    226.00\n",
       "1    223.32\n",
       "2    227.00\n",
       "3    227.00\n",
       "4    227.50\n",
       "Name: Open, dtype: float64"
      ]
     },
     "execution_count": 12,
     "metadata": {},
     "output_type": "execute_result"
    }
   ],
   "source": [
    "testset = dataset_test.iloc[:,8:9].values\n",
    "dataset_total = pd.concat((dataset_train['Open'],dataset_test['Open']),axis = 0)\n",
    "dataset_total.head()"
   ]
  },
  {
   "cell_type": "code",
   "execution_count": 13,
   "metadata": {},
   "outputs": [],
   "source": [
    "inputs = dataset_total[len(dataset_total) - len(dataset_test)-60:].values\n",
    "#inputs\n",
    "inputs = inputs.reshape(-1,1)\n",
    "#inputs"
   ]
  },
  {
   "cell_type": "code",
   "execution_count": 14,
   "metadata": {},
   "outputs": [
    {
     "data": {
      "text/plain": [
       "(431, 1)"
      ]
     },
     "execution_count": 14,
     "metadata": {},
     "output_type": "execute_result"
    }
   ],
   "source": [
    "inputs = sc.transform(inputs)\n",
    "inputs.shape"
   ]
  },
  {
   "cell_type": "code",
   "execution_count": 15,
   "metadata": {},
   "outputs": [
    {
     "data": {
      "text/plain": [
       "(366, 1, 1)"
      ]
     },
     "execution_count": 15,
     "metadata": {},
     "output_type": "execute_result"
    }
   ],
   "source": [
    "x_test = []\n",
    "for i in range(1,367):\n",
    "    x_test.append(inputs[i-1:i,0])\n",
    "x_test = np.array(x_test)\n",
    "#x_test.shape\n",
    "x_test = np.reshape(x_test, (x_test.shape[0],x_test.shape[1],1))\n",
    "x_test.shape"
   ]
  },
  {
   "cell_type": "code",
   "execution_count": 16,
   "metadata": {},
   "outputs": [],
   "source": [
    "predicted_price = model.predict(x_test)\n",
    "predicted_price = sc.inverse_transform(predicted_price)"
   ]
  },
  {
   "cell_type": "markdown",
   "metadata": {},
   "source": [
    "## Plot"
   ]
  },
  {
   "cell_type": "code",
   "execution_count": 17,
   "metadata": {},
   "outputs": [
    {
     "data": {
      "image/png": "[encoded data removed]",
      "text/plain": [
       "<Figure size 432x288 with 1 Axes>"
      ]
     },
     "metadata": {
      "needs_background": "light"
     },
     "output_type": "display_data"
    }
   ],
   "source": [
    "plt.plot(testset,color = 'red', label = 'Real Price')\n",
    "plt.plot(predicted_price, color = 'blue', label = 'Predicted Price')\n",
    "plt.legend()\n",
    "plt.show()"
   ]
  },
  {
   "cell_type": "code",
   "execution_count": null,
   "metadata": {},
   "outputs": [],
   "source": []
  }
 ],
 "metadata": {
  "kernelspec": {
   "display_name": "Python 3",
   "language": "python",
   "name": "python3"
  },
  "language_info": {
   "codemirror_mode": {
    "name": "ipython",
    "version": 3
   },
   "file_extension": ".py",
   "mimetype": "text/x-python",
   "name": "python",
   "nbconvert_exporter": "python",
   "pygments_lexer": "ipython3",
   "version": "3.7.1"
  }
 },
 "nbformat": 4,
 "nbformat_minor": 2
}
