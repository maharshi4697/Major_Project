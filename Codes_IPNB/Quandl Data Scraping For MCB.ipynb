{
 "cells": [
  {
   "cell_type": "code",
   "execution_count": 2,
   "metadata": {},
   "outputs": [],
   "source": [
    "from sklearn import preprocessing\n",
    "import quandl\n",
    "quandl.ApiConfig.api_key = 'EuBXK6i-ViyNR-FCPLr_'\n",
    "import pandas as pd"
   ]
  },
  {
   "cell_type": "code",
   "execution_count": 3,
   "metadata": {},
   "outputs": [],
   "source": [
    "online = False\n",
    "def getStockData(path,stockName,Type):\n",
    "    global online\n",
    "    online = Type\n",
    "    if online == True:\n",
    "        return quandl.get('PSX/'+stockName.upper())\n",
    "    if online == False:\n",
    "        return pd.read_csv(path+stockName.upper()+'_01012010_06122018.csv')"
   ]
  },
  {
   "cell_type": "code",
   "execution_count": 4,
   "metadata": {},
   "outputs": [],
   "source": [
    "def feature_engineering(From,To,data):\n",
    "    global online\n",
    "    if online == True:\n",
    "        return data.iloc[From:To,4],data.iloc[From:To,0],data.iloc[From:To,1],data.iloc[From:To,2],data.iloc[From:To,3]\n",
    "    if online == False:\n",
    "        #close,open,high,low,volume\n",
    "        return data.iloc[From:To,5],data.iloc[From:To,2],data.iloc[From:To,3],data.iloc[From:To,4],data.iloc[From:To,6]"
   ]
  },
  {
   "cell_type": "code",
   "execution_count": 5,
   "metadata": {},
   "outputs": [],
   "source": [
    "def feature_arrange(From,To,data):\n",
    "    return data.iloc[From:To,8],data.iloc[From:To,1],data.iloc[From:To,2],data.iloc[From:To,3],data.iloc[From:To,4],data.iloc[From:To,5],data.iloc[From:To,6],data.iloc[From:To,7],data.iloc[From:To,9]"
   ]
  },
  {
   "cell_type": "code",
   "execution_count": null,
   "metadata": {},
   "outputs": [],
   "source": []
  }
 ],
 "metadata": {
  "kernelspec": {
   "display_name": "Python 3",
   "language": "python",
   "name": "python3"
  },
  "language_info": {
   "codemirror_mode": {
    "name": "ipython",
    "version": 3
   },
   "file_extension": ".py",
   "mimetype": "text/x-python",
   "name": "python",
   "nbconvert_exporter": "python",
   "pygments_lexer": "ipython3",
   "version": "3.7.1"
  }
 },
 "nbformat": 4,
 "nbformat_minor": 2
}
