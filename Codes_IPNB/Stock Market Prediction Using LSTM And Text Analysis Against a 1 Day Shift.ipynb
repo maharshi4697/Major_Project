{
 "cells": [
  {
   "cell_type": "markdown",
   "metadata": {},
   "source": [
    "## Import Functions"
   ]
  },
  {
   "cell_type": "code",
   "execution_count": 1,
   "metadata": {},
   "outputs": [
    {
     "name": "stderr",
     "output_type": "stream",
     "text": [
      "Using TensorFlow backend.\n"
     ]
    }
   ],
   "source": [
    "import numpy as np\n",
    "import pandas as pd\n",
    "from sklearn import preprocessing\n",
    "\n",
    "from keras.models import Sequential\n",
    "from keras.layers.core import Dense, Activation\n",
    "from keras.layers.recurrent import LSTM\n",
    "from keras.layers import  Dropout\n",
    "from keras.models import model_from_json\n",
    "from keras.models import load_model\n",
    "from keras import regularizers\n",
    "\n",
    "import matplotlib.pyplot as plt\n",
    "import matplotlib.ticker as mtick\n",
    "fmt = '$%.0f'\n",
    "tick = mtick.FormatStrFormatter(fmt)\n",
    "\n",
    "%matplotlib inline"
   ]
  },
  {
   "cell_type": "markdown",
   "metadata": {},
   "source": [
    "## Plotting The Close Prices "
   ]
  },
  {
   "cell_type": "code",
   "execution_count": 4,
   "metadata": {},
   "outputs": [
    {
     "data": {
      "image/png": "[encoded data removed]",
      "text/plain": [
       "<Figure size 432x288 with 1 Axes>"
      ]
     },
     "metadata": {
      "needs_background": "light"
     },
     "output_type": "display_data"
    },
    {
     "data": {
      "text/plain": [
       "<Figure size 432x288 with 0 Axes>"
      ]
     },
     "metadata": {},
     "output_type": "display_data"
    }
   ],
   "source": [
    "data_csv = pd.read_csv(\"/Users/maharshichattopadhyay/Documents/Study/Major_Project/DataSet/Final_Dataset/Final_Data_MCB.csv\")\n",
    "data_csv[['Close']].plot()\n",
    "plt.show()\n",
    "plt.clf()"
   ]
  },
  {
   "cell_type": "markdown",
   "metadata": {},
   "source": [
    "## Calculating the length of data to use"
   ]
  },
  {
   "cell_type": "code",
   "execution_count": 5,
   "metadata": {},
   "outputs": [
    {
     "name": "stdout",
     "output_type": "stream",
     "text": [
      "total_data: 1846\n"
     ]
    }
   ],
   "source": [
    "percentage_of_data = 1.0\n",
    "data_to_use = int(percentage_of_data*(len(data_csv)-1))\n",
    "\n",
    "# 80% of data will be of training\n",
    "train_end = int(data_to_use*0.8)\n",
    "\n",
    "total_data = len(data_csv)\n",
    "print(\"total_data:\", total_data)"
   ]
  },
  {
   "cell_type": "markdown",
   "metadata": {},
   "source": [
    "## Re-Arranging the data"
   ]
  },
  {
   "cell_type": "code",
   "execution_count": 12,
   "metadata": {},
   "outputs": [],
   "source": [
    "start = total_data - data_to_use\n",
    "\n",
    "# Currently doing prediction only for 1 step ahead\n",
    "steps_to_predict = 1\n",
    "\n",
    "#close, compund, neg, neu, pos, open, high, low, volume\n",
    "# Order -> 8,1,2,3,4,5,6,7,9\n",
    "close = data_csv.iloc[start:total_data,8] #close\n",
    "compound = data_csv.iloc[start:total_data,1] #compund\n",
    "neg = data_csv.iloc[start:total_data,2] #neg\n",
    "neu = data_csv.iloc[start:total_data,3] #neu\n",
    "pos = data_csv.iloc[start:total_data,4] #pos\n",
    "open = data_csv.iloc[start:total_data,5] #open\n",
    "high = data_csv.iloc[start:total_data,6] #high\n",
    "low = data_csv.iloc[start:total_data,7] #low\n",
    "volume = data_csv.iloc[start:total_data,9] #volume"
   ]
  },
  {
   "cell_type": "code",
   "execution_count": 13,
   "metadata": {},
   "outputs": [
    {
     "name": "stdout",
     "output_type": "stream",
     "text": [
      "     close  shifted_close  compound  shifted_compound   volume    open  \\\n",
      "1   227.97         226.27   -0.6996           -0.9442  1601540  223.32   \n",
      "2   226.27         226.16   -0.9442           -0.7906  2181684  227.00   \n",
      "3   226.16         225.99   -0.7906           -0.5859  1034935  227.00   \n",
      "4   225.99         224.44   -0.5859           -0.9723  1247251  227.50   \n",
      "5   224.44         228.58   -0.9723           -0.9578   571792  227.50   \n",
      "6   228.58         238.68   -0.9578           -0.3818  1501995  225.25   \n",
      "7   238.68         248.46   -0.3818           -0.7184  4938671  229.00   \n",
      "8   248.46         243.35   -0.7184           -0.8720  3835913  240.00   \n",
      "9   243.35         244.64   -0.8720           -0.5994  1974180  249.25   \n",
      "10  244.64         239.77   -0.5994           -0.7506  1800665  245.35   \n",
      "\n",
      "      high     low  \n",
      "1   229.50  223.32  \n",
      "2   232.00  225.60  \n",
      "3   227.65  224.20  \n",
      "4   227.99  223.80  \n",
      "5   228.00  223.50  \n",
      "6   229.29  223.61  \n",
      "7   239.85  229.00  \n",
      "8   250.48  238.50  \n",
      "9   250.25  242.10  \n",
      "10  245.35  239.55  \n"
     ]
    }
   ],
   "source": [
    "#shift next day close and next day compund\n",
    "shifted_close = close.shift(-1) #shifted close\n",
    "shifted_compound = compound.shift(-1) #shifted compund\n",
    "\n",
    "#taking only: close, next_close, compund, next_compund, volume, open, high, low\n",
    "data = pd.concat([close, shifted_close, compound, shifted_compound, volume, open, high, low], axis=1)\n",
    "data.columns = ['close', 'shifted_close', 'compound', 'shifted_compound','volume', 'open', 'high', 'low']\n",
    "\n",
    "data = data.dropna()\n",
    "     \n",
    "print(data[:10])"
   ]
  },
  {
   "cell_type": "markdown",
   "metadata": {},
   "source": [
    "## Separating data into x and y"
   ]
  },
  {
   "cell_type": "code",
   "execution_count": 16,
   "metadata": {},
   "outputs": [],
   "source": [
    "#Approach: Training the machine using compund, close price, and next_compund to predict next_close price.\n",
    "y = data['shifted_close'] #next_close\n",
    "# close, compund, next_compund, volume, open, high, low   \n",
    "cols = ['close', 'compound', 'shifted_compound','volume', 'open', 'high', 'low']\n",
    "x = data[cols]"
   ]
  },
  {
   "cell_type": "markdown",
   "metadata": {},
   "source": [
    "## Preprocessing"
   ]
  },
  {
   "cell_type": "code",
   "execution_count": 17,
   "metadata": {},
   "outputs": [],
   "source": [
    "scaler_x = preprocessing.MinMaxScaler (feature_range=(-1, 1))\n",
    "x = np.array(x).reshape((len(x) ,len(cols)))\n",
    "x = scaler_x.fit_transform(x)\n",
    "\n",
    "scaler_y = preprocessing.MinMaxScaler (feature_range=(-1, 1))\n",
    "y = np.array (y).reshape ((len( y), 1))\n",
    "y = scaler_y.fit_transform (y)"
   ]
  },
  {
   "cell_type": "markdown",
   "metadata": {},
   "source": [
    "## Data-Splitting"
   ]
  },
  {
   "cell_type": "code",
   "execution_count": 23,
   "metadata": {},
   "outputs": [
    {
     "name": "stdout",
     "output_type": "stream",
     "text": [
      "(1476, 7, 1)\n",
      "(367, 7, 1)\n"
     ]
    }
   ],
   "source": [
    "X_train = x[0 : train_end,]\n",
    "X_test = x[train_end+1 : len(x),]    \n",
    "y_train = y[0 : train_end] \n",
    "y_test = y[train_end+1 : len(y)]  \n",
    "\n",
    "X_train = X_train.reshape (X_train. shape + (1,)) \n",
    "X_test = X_test.reshape(X_test.shape + (1,))\n",
    "print(X_train.shape)\n",
    "print(X_test.shape)"
   ]
  },
  {
   "cell_type": "markdown",
   "metadata": {},
   "source": [
    "## LSTM-RNN Model"
   ]
  },
  {
   "cell_type": "code",
   "execution_count": 25,
   "metadata": {},
   "outputs": [
    {
     "name": "stdout",
     "output_type": "stream",
     "text": [
      "WARNING:tensorflow:From /anaconda3/lib/python3.7/site-packages/tensorflow/python/framework/op_def_library.py:263: colocate_with (from tensorflow.python.framework.ops) is deprecated and will be removed in a future version.\n",
      "Instructions for updating:\n",
      "Colocations handled automatically by placer.\n"
     ]
    },
    {
     "name": "stderr",
     "output_type": "stream",
     "text": [
      "/anaconda3/lib/python3.7/site-packages/ipykernel_launcher.py:8: UserWarning: Update your `LSTM` call to the Keras 2 API: `LSTM(25, return_sequences=True, activation=\"tanh\", input_shape=(7, 1), recurrent_activation=\"hard_sigmoid\")`\n",
      "  \n"
     ]
    },
    {
     "name": "stdout",
     "output_type": "stream",
     "text": [
      "WARNING:tensorflow:From /anaconda3/lib/python3.7/site-packages/keras/backend/tensorflow_backend.py:3445: calling dropout (from tensorflow.python.ops.nn_ops) with keep_prob is deprecated and will be removed in a future version.\n",
      "Instructions for updating:\n",
      "Please use `rate` instead of `keep_prob`. Rate should be set to `rate = 1 - keep_prob`.\n",
      "WARNING:tensorflow:From /anaconda3/lib/python3.7/site-packages/tensorflow/python/ops/math_ops.py:3066: to_int32 (from tensorflow.python.ops.math_ops) is deprecated and will be removed in a future version.\n",
      "Instructions for updating:\n",
      "Use tf.cast instead.\n"
     ]
    },
    {
     "name": "stderr",
     "output_type": "stream",
     "text": [
      "/anaconda3/lib/python3.7/site-packages/ipykernel_launcher.py:14: UserWarning: Update your `Dense` call to the Keras 2 API: `Dense(activity_regularizer=<keras.reg..., activation=\"linear\", units=1)`\n",
      "  \n",
      "/anaconda3/lib/python3.7/site-packages/ipykernel_launcher.py:17: UserWarning: The `nb_epoch` argument in `fit` has been renamed `epochs`.\n"
     ]
    },
    {
     "name": "stdout",
     "output_type": "stream",
     "text": [
      "Train on 1180 samples, validate on 296 samples\n",
      "Epoch 1/100\n",
      "1180/1180 [==============================] - 3s 3ms/step - loss: 0.1390 - val_loss: 0.0568\n",
      "Epoch 2/100\n",
      "1180/1180 [==============================] - 1s 643us/step - loss: 0.0523 - val_loss: 0.0659\n",
      "Epoch 3/100\n",
      "1180/1180 [==============================] - 1s 641us/step - loss: 0.0523 - val_loss: 0.0560\n",
      "Epoch 4/100\n",
      "1180/1180 [==============================] - 1s 662us/step - loss: 0.0501 - val_loss: 0.0601\n",
      "Epoch 5/100\n",
      "1180/1180 [==============================] - 1s 748us/step - loss: 0.0501 - val_loss: 0.0628\n",
      "Epoch 6/100\n",
      "1180/1180 [==============================] - 1s 1ms/step - loss: 0.0468 - val_loss: 0.0616\n",
      "Epoch 7/100\n",
      "1180/1180 [==============================] - 1s 1ms/step - loss: 0.0458 - val_loss: 0.0737\n",
      "Epoch 8/100\n",
      "1180/1180 [==============================] - 1s 831us/step - loss: 0.0435 - val_loss: 0.0504\n",
      "Epoch 9/100\n",
      "1180/1180 [==============================] - 1s 976us/step - loss: 0.0408 - val_loss: 0.0516\n",
      "Epoch 10/100\n",
      "1180/1180 [==============================] - 1s 948us/step - loss: 0.0365 - val_loss: 0.0438\n",
      "Epoch 11/100\n",
      "1180/1180 [==============================] - 1s 750us/step - loss: 0.0324 - val_loss: 0.0348\n",
      "Epoch 12/100\n",
      "1180/1180 [==============================] - 1s 658us/step - loss: 0.0264 - val_loss: 0.0266\n",
      "Epoch 13/100\n",
      "1180/1180 [==============================] - 1s 676us/step - loss: 0.0202 - val_loss: 0.0213\n",
      "Epoch 14/100\n",
      "1180/1180 [==============================] - 1s 672us/step - loss: 0.0163 - val_loss: 0.0246\n",
      "Epoch 15/100\n",
      "1180/1180 [==============================] - 1s 695us/step - loss: 0.0134 - val_loss: 0.0157\n",
      "Epoch 16/100\n",
      "1180/1180 [==============================] - 1s 740us/step - loss: 0.0131 - val_loss: 0.0094\n",
      "Epoch 17/100\n",
      "1180/1180 [==============================] - 1s 672us/step - loss: 0.0115 - val_loss: 0.0094\n",
      "Epoch 18/100\n",
      "1180/1180 [==============================] - 1s 588us/step - loss: 0.0110 - val_loss: 0.0057\n",
      "Epoch 19/100\n",
      "1180/1180 [==============================] - 1s 590us/step - loss: 0.0102 - val_loss: 0.0126\n",
      "Epoch 20/100\n",
      "1180/1180 [==============================] - 1s 587us/step - loss: 0.0091 - val_loss: 0.0094\n",
      "Epoch 21/100\n",
      "1180/1180 [==============================] - 1s 619us/step - loss: 0.0095 - val_loss: 0.0088\n",
      "Epoch 22/100\n",
      "1180/1180 [==============================] - 1s 612us/step - loss: 0.0079 - val_loss: 0.0054\n",
      "Epoch 23/100\n",
      "1180/1180 [==============================] - 1s 749us/step - loss: 0.0082 - val_loss: 0.0034\n",
      "Epoch 24/100\n",
      "1180/1180 [==============================] - 1s 699us/step - loss: 0.0076 - val_loss: 0.0035\n",
      "Epoch 25/100\n",
      "1180/1180 [==============================] - 1s 745us/step - loss: 0.0072 - val_loss: 0.0062\n",
      "Epoch 26/100\n",
      "1180/1180 [==============================] - 1s 613us/step - loss: 0.0069 - val_loss: 0.0035\n",
      "Epoch 27/100\n",
      "1180/1180 [==============================] - 1s 728us/step - loss: 0.0067 - val_loss: 0.0055\n",
      "Epoch 28/100\n",
      "1180/1180 [==============================] - 1s 706us/step - loss: 0.0066 - val_loss: 0.0029\n",
      "Epoch 29/100\n",
      "1180/1180 [==============================] - 1s 688us/step - loss: 0.0067 - val_loss: 0.0049\n",
      "Epoch 30/100\n",
      "1180/1180 [==============================] - 1s 727us/step - loss: 0.0066 - val_loss: 0.0035\n",
      "Epoch 31/100\n",
      "1180/1180 [==============================] - 1s 724us/step - loss: 0.0062 - val_loss: 0.0024\n",
      "Epoch 32/100\n",
      "1180/1180 [==============================] - 1s 761us/step - loss: 0.0061 - val_loss: 0.0076\n",
      "Epoch 33/100\n",
      "1180/1180 [==============================] - 1s 673us/step - loss: 0.0061 - val_loss: 0.0044\n",
      "Epoch 34/100\n",
      "1180/1180 [==============================] - 1s 712us/step - loss: 0.0058 - val_loss: 0.0021\n",
      "Epoch 35/100\n",
      "1180/1180 [==============================] - 1s 1ms/step - loss: 0.0061 - val_loss: 0.0027\n",
      "Epoch 36/100\n",
      "1180/1180 [==============================] - 1s 831us/step - loss: 0.0060 - val_loss: 0.0032\n",
      "Epoch 37/100\n",
      "1180/1180 [==============================] - 1s 737us/step - loss: 0.0056 - val_loss: 0.0022\n",
      "Epoch 38/100\n",
      "1180/1180 [==============================] - 1s 760us/step - loss: 0.0057 - val_loss: 0.0024\n",
      "Epoch 39/100\n",
      "1180/1180 [==============================] - 1s 787us/step - loss: 0.0059 - val_loss: 0.0019\n",
      "Epoch 40/100\n",
      "1180/1180 [==============================] - 1s 730us/step - loss: 0.0056 - val_loss: 0.0042\n",
      "Epoch 41/100\n",
      "1180/1180 [==============================] - 1s 670us/step - loss: 0.0051 - val_loss: 0.0028\n",
      "Epoch 42/100\n",
      "1180/1180 [==============================] - 1s 757us/step - loss: 0.0055 - val_loss: 0.0040\n",
      "Epoch 43/100\n",
      "1180/1180 [==============================] - 1s 716us/step - loss: 0.0056 - val_loss: 0.0024\n",
      "Epoch 44/100\n",
      "1180/1180 [==============================] - 1s 732us/step - loss: 0.0055 - val_loss: 0.0031\n",
      "Epoch 45/100\n",
      "1180/1180 [==============================] - 1s 775us/step - loss: 0.0053 - val_loss: 0.0033\n",
      "Epoch 46/100\n",
      "1180/1180 [==============================] - 1s 778us/step - loss: 0.0052 - val_loss: 0.0028\n",
      "Epoch 47/100\n",
      "1180/1180 [==============================] - 1s 785us/step - loss: 0.0051 - val_loss: 0.0025\n",
      "Epoch 48/100\n",
      "1180/1180 [==============================] - 1s 724us/step - loss: 0.0051 - val_loss: 0.0019\n",
      "Epoch 49/100\n",
      "1180/1180 [==============================] - 1s 728us/step - loss: 0.0049 - val_loss: 0.0024\n",
      "Epoch 50/100\n",
      "1180/1180 [==============================] - 1s 804us/step - loss: 0.0052 - val_loss: 0.0021\n",
      "Epoch 51/100\n",
      "1180/1180 [==============================] - 1s 704us/step - loss: 0.0053 - val_loss: 0.0066\n",
      "Epoch 52/100\n",
      "1180/1180 [==============================] - 1s 733us/step - loss: 0.0050 - val_loss: 0.0036\n",
      "Epoch 53/100\n",
      "1180/1180 [==============================] - 1s 721us/step - loss: 0.0054 - val_loss: 0.0025\n",
      "Epoch 54/100\n",
      "1180/1180 [==============================] - 1s 581us/step - loss: 0.0049 - val_loss: 0.0026\n",
      "Epoch 55/100\n",
      "1180/1180 [==============================] - 1s 644us/step - loss: 0.0051 - val_loss: 0.0029\n",
      "Epoch 56/100\n",
      "1180/1180 [==============================] - 1s 613us/step - loss: 0.0051 - val_loss: 0.0035\n",
      "Epoch 57/100\n",
      "1180/1180 [==============================] - 1s 660us/step - loss: 0.0051 - val_loss: 0.0021\n",
      "Epoch 58/100\n",
      "1180/1180 [==============================] - 1s 662us/step - loss: 0.0052 - val_loss: 0.0027\n",
      "Epoch 59/100\n",
      "1180/1180 [==============================] - 1s 668us/step - loss: 0.0047 - val_loss: 0.0034\n",
      "Epoch 60/100\n",
      "1180/1180 [==============================] - 1s 612us/step - loss: 0.0049 - val_loss: 0.0024\n",
      "Epoch 61/100\n",
      "1180/1180 [==============================] - 1s 605us/step - loss: 0.0046 - val_loss: 0.0028\n",
      "Epoch 62/100\n",
      "1180/1180 [==============================] - 1s 608us/step - loss: 0.0051 - val_loss: 0.0019\n",
      "Epoch 63/100\n",
      "1180/1180 [==============================] - 1s 645us/step - loss: 0.0051 - val_loss: 0.0028\n",
      "Epoch 64/100\n",
      "1180/1180 [==============================] - 1s 683us/step - loss: 0.0048 - val_loss: 0.0027\n",
      "Epoch 65/100\n",
      "1180/1180 [==============================] - 1s 753us/step - loss: 0.0049 - val_loss: 0.0023\n",
      "Epoch 66/100\n",
      "1180/1180 [==============================] - 1s 837us/step - loss: 0.0047 - val_loss: 0.0032\n",
      "Epoch 67/100\n",
      "1180/1180 [==============================] - 1s 754us/step - loss: 0.0047 - val_loss: 0.0022\n",
      "Epoch 68/100\n",
      "1180/1180 [==============================] - 1s 717us/step - loss: 0.0050 - val_loss: 0.0024\n",
      "Epoch 69/100\n",
      "1180/1180 [==============================] - 1s 777us/step - loss: 0.0045 - val_loss: 0.0020\n",
      "Epoch 70/100\n",
      "1180/1180 [==============================] - 1s 662us/step - loss: 0.0044 - val_loss: 0.0024\n",
      "Epoch 71/100\n",
      "1180/1180 [==============================] - 1s 746us/step - loss: 0.0048 - val_loss: 0.0036\n",
      "Epoch 72/100\n",
      "1180/1180 [==============================] - 1s 681us/step - loss: 0.0047 - val_loss: 0.0023\n",
      "Epoch 73/100\n",
      "1180/1180 [==============================] - 1s 687us/step - loss: 0.0045 - val_loss: 0.0022\n",
      "Epoch 74/100\n",
      "1180/1180 [==============================] - 1s 643us/step - loss: 0.0045 - val_loss: 0.0018\n",
      "Epoch 75/100\n",
      "1180/1180 [==============================] - 1s 673us/step - loss: 0.0047 - val_loss: 0.0021\n",
      "Epoch 76/100\n",
      "1180/1180 [==============================] - 1s 669us/step - loss: 0.0045 - val_loss: 0.0019\n",
      "Epoch 77/100\n",
      "1180/1180 [==============================] - 1s 800us/step - loss: 0.0044 - val_loss: 0.0029\n",
      "Epoch 78/100\n"
     ]
    },
    {
     "name": "stdout",
     "output_type": "stream",
     "text": [
      "1180/1180 [==============================] - 1s 726us/step - loss: 0.0047 - val_loss: 0.0021\n",
      "Epoch 79/100\n",
      "1180/1180 [==============================] - 1s 714us/step - loss: 0.0045 - val_loss: 0.0021\n",
      "Epoch 80/100\n",
      "1180/1180 [==============================] - 1s 713us/step - loss: 0.0045 - val_loss: 0.0022\n",
      "Epoch 81/100\n",
      "1180/1180 [==============================] - 1s 676us/step - loss: 0.0044 - val_loss: 0.0023\n",
      "Epoch 82/100\n",
      "1180/1180 [==============================] - 1s 715us/step - loss: 0.0041 - val_loss: 0.0022\n",
      "Epoch 83/100\n",
      "1180/1180 [==============================] - 1s 671us/step - loss: 0.0042 - val_loss: 0.0021\n",
      "Epoch 84/100\n",
      "1180/1180 [==============================] - 1s 695us/step - loss: 0.0046 - val_loss: 0.0028\n",
      "Epoch 85/100\n",
      "1180/1180 [==============================] - 1s 740us/step - loss: 0.0047 - val_loss: 0.0021\n",
      "Epoch 86/100\n",
      "1180/1180 [==============================] - 1s 606us/step - loss: 0.0045 - val_loss: 0.0022\n",
      "Epoch 87/100\n",
      "1180/1180 [==============================] - 1s 610us/step - loss: 0.0044 - val_loss: 0.0024\n",
      "Epoch 88/100\n",
      "1180/1180 [==============================] - 1s 673us/step - loss: 0.0041 - val_loss: 0.0034\n",
      "Epoch 89/100\n",
      "1180/1180 [==============================] - 1s 658us/step - loss: 0.0044 - val_loss: 0.0025\n",
      "Epoch 90/100\n",
      "1180/1180 [==============================] - 1s 635us/step - loss: 0.0045 - val_loss: 0.0024\n",
      "Epoch 91/100\n",
      "1180/1180 [==============================] - 1s 699us/step - loss: 0.0045 - val_loss: 0.0035\n",
      "Epoch 92/100\n",
      "1180/1180 [==============================] - 1s 747us/step - loss: 0.0042 - val_loss: 0.0024\n",
      "Epoch 93/100\n",
      "1180/1180 [==============================] - 1s 756us/step - loss: 0.0041 - val_loss: 0.0032\n",
      "Epoch 94/100\n",
      "1180/1180 [==============================] - 1s 724us/step - loss: 0.0045 - val_loss: 0.0025\n",
      "Epoch 95/100\n",
      "1180/1180 [==============================] - 1s 722us/step - loss: 0.0044 - val_loss: 0.0029\n",
      "Epoch 96/100\n",
      "1180/1180 [==============================] - 1s 660us/step - loss: 0.0041 - val_loss: 0.0031\n",
      "Epoch 97/100\n",
      "1180/1180 [==============================] - 1s 945us/step - loss: 0.0042 - val_loss: 0.0026\n",
      "Epoch 98/100\n",
      "1180/1180 [==============================] - 1s 894us/step - loss: 0.0043 - val_loss: 0.0024\n",
      "Epoch 99/100\n",
      "1180/1180 [==============================] - 1s 683us/step - loss: 0.0041 - val_loss: 0.0023\n",
      "Epoch 100/100\n",
      "1180/1180 [==============================] - 1s 792us/step - loss: 0.0042 - val_loss: 0.0021\n"
     ]
    },
    {
     "data": {
      "text/plain": [
       "<keras.callbacks.History at 0x1a295a47f0>"
      ]
     },
     "execution_count": 25,
     "metadata": {},
     "output_type": "execute_result"
    }
   ],
   "source": [
    "batch_size = 32\n",
    "nb_epoch = 100\n",
    "neurons = 25\n",
    "dropout = 0.1\n",
    "seed = 2016\n",
    "np.random.seed(seed)\n",
    "model = Sequential ()\n",
    "model.add(LSTM(neurons, return_sequences=True, activation='tanh', inner_activation='hard_sigmoid', input_shape=(len(cols), 1)))\n",
    "model.add(Dropout(dropout))\n",
    "model.add(LSTM(neurons, return_sequences=True,  activation='tanh'))\n",
    "model.add(Dropout(dropout))\n",
    "model.add(LSTM(neurons, activation='tanh'))\n",
    "model.add(Dropout(dropout))\n",
    "model.add(Dense(activity_regularizer=regularizers.l1(0.00001), output_dim=1, activation='linear'))\n",
    "model.add(Activation('tanh'))\n",
    "model.compile(loss='mean_squared_error' , optimizer='RMSprop')\n",
    "model.fit(X_train, y_train, batch_size=batch_size, nb_epoch=nb_epoch, verbose=1, validation_split=0.2)"
   ]
  },
  {
   "cell_type": "markdown",
   "metadata": {},
   "source": [
    "## Predictions"
   ]
  },
  {
   "cell_type": "code",
   "execution_count": 26,
   "metadata": {},
   "outputs": [],
   "source": [
    "pred = model.predict(X_test) \n",
    "pred = scaler_y.inverse_transform(np.array(pred).reshape((len(pred), 1)))\n",
    "prediction_data = pred[-1]   \n",
    "X_test = scaler_x.inverse_transform(np.array(X_test).reshape((len(X_test), len(cols))))"
   ]
  },
  {
   "cell_type": "markdown",
   "metadata": {},
   "source": [
    "## Plot"
   ]
  },
  {
   "cell_type": "code",
   "execution_count": 27,
   "metadata": {},
   "outputs": [
    {
     "name": "stderr",
     "output_type": "stream",
     "text": [
      "/anaconda3/lib/python3.7/site-packages/matplotlib/figure.py:98: MatplotlibDeprecationWarning: \n",
      "Adding an axes using the same arguments as a previous axes currently reuses the earlier instance.  In a future version, a new instance will always be created and returned.  Meanwhile, this warning can be suppressed, and the future behavior ensured, by passing a unique label to each axes instance.\n",
      "  \"Adding an axes using the same arguments as a previous axes \"\n"
     ]
    },
    {
     "data": {
      "image/png": "[encoded data removed]",
      "text/plain": [
       "<Figure size 432x288 with 1 Axes>"
      ]
     },
     "metadata": {
      "needs_background": "light"
     },
     "output_type": "display_data"
    },
    {
     "data": {
      "text/plain": [
       "<Figure size 432x288 with 0 Axes>"
      ]
     },
     "metadata": {},
     "output_type": "display_data"
    }
   ],
   "source": [
    "plt.plot(pred, label=\"predictions\")\n",
    "y_test = scaler_y.inverse_transform(np.array(y_test).reshape((len( y_test), 1)))\n",
    "plt.plot([row[0] for row in y_test], label=\"actual\")\n",
    "plt.legend(loc='upper center', bbox_to_anchor=(0.5, -0.05), fancybox=True, shadow=True, ncol=2)\n",
    "ax = plt.axes()\n",
    "ax.yaxis.set_major_formatter(tick)\n",
    "plt.show()\n",
    "plt.clf()"
   ]
  },
  {
   "cell_type": "code",
   "execution_count": null,
   "metadata": {},
   "outputs": [],
   "source": []
  }
 ],
 "metadata": {
  "kernelspec": {
   "display_name": "Python 3",
   "language": "python",
   "name": "python3"
  },
  "language_info": {
   "codemirror_mode": {
    "name": "ipython",
    "version": 3
   },
   "file_extension": ".py",
   "mimetype": "text/x-python",
   "name": "python",
   "nbconvert_exporter": "python",
   "pygments_lexer": "ipython3",
   "version": "3.7.1"
  }
 },
 "nbformat": 4,
 "nbformat_minor": 2
}
